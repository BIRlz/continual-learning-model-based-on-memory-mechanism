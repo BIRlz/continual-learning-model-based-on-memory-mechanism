{
 "cells": [
  {
   "cell_type": "code",
   "execution_count": 1,
   "metadata": {},
   "outputs": [],
   "source": [
    "#### Train a single network for 3 MNIST tasks sequentially"
   ]
  },
  {
   "cell_type": "code",
   "execution_count": 1,
   "metadata": {},
   "outputs": [],
   "source": [
    "# automatically reload edited modules\n",
    "%load_ext autoreload\n",
    "\n",
    "\n",
    "%autoreload 2"
   ]
  },
  {
   "cell_type": "code",
   "execution_count": 2,
   "metadata": {},
   "outputs": [
    {
     "name": "stderr",
     "output_type": "stream",
     "text": [
      "/home/user/anaconda3/lib/python3.6/site-packages/h5py/__init__.py:36: FutureWarning: Conversion of the second argument of issubdtype from `float` to `np.floating` is deprecated. In future, it will be treated as `np.float64 == np.dtype(float).type`.\n",
      "  from ._conv import register_converters as _register_converters\n"
     ]
    }
   ],
   "source": [
    "import tensorflow as tf\n",
    "import numpy as np\n",
    "from copy import deepcopy\n",
    "from tensorflow.examples.tutorials.mnist import input_data"
   ]
  },
  {
   "cell_type": "code",
   "execution_count": 3,
   "metadata": {},
   "outputs": [],
   "source": [
    "%matplotlib inline\n",
    "import matplotlib.pyplot as plt\n",
    "import matplotlib.image as mpimg\n",
    "from IPython import display"
   ]
  },
  {
   "cell_type": "code",
   "execution_count": 4,
   "metadata": {},
   "outputs": [],
   "source": [
    "# import class Model\n",
    "from model_last import Model"
   ]
  },
  {
   "cell_type": "code",
   "execution_count": 5,
   "metadata": {},
   "outputs": [],
   "source": [
    "accuracy=open(\"./test_acc.txt\",\"a+\")\n",
    "temp_result = 0 "
   ]
  },
  {
   "cell_type": "code",
   "execution_count": 6,
   "metadata": {},
   "outputs": [],
   "source": [
    "# mnist imshow convenience function\n",
    "# input is a 1D array of length 784\n",
    "def mnist_imshow(img):\n",
    "    plt.imshow(img.reshape([28,28]), cmap=\"gray\")\n",
    "    plt.axis('off')\n",
    "\n",
    "# return a new mnist dataset w/ pixels randomly permuted(序列改变)\n",
    "#对mnist数据集随机打乱像素值，并做了一个转置操作，产生了mnist2数据集，相当于再产生一个数据集\n",
    "def permute_mnist(mnist):\n",
    "    perm_inds = list(range(mnist.train.images.shape[1]))#相当于range（784）\n",
    "    #print(perm_inds)\n",
    "    np.random.shuffle(perm_inds)#随机打乱0-783的列表 \n",
    "    mnist2 = deepcopy(mnist)\n",
    "    sets = [\"train\", \"validation\", \"test\"]\n",
    "    for set_name in sets:\n",
    "        this_set = getattr(mnist2, set_name) # shallow copy\n",
    "        this_set._images = np.transpose(np.array([this_set.images[:,c] for c in perm_inds]))\n",
    "    return mnist2"
   ]
  },
  {
   "cell_type": "code",
   "execution_count": 7,
   "metadata": {},
   "outputs": [],
   "source": [
    "# classification accuracy plotting\n",
    "def plot_test_acc(plot_handles):\n",
    "    plt.legend(handles=plot_handles, loc=\"center right\")\n",
    "    plt.xlabel(\"Iterations\")\n",
    "    plt.ylabel(\"Test Accuracy\")\n",
    "    plt.ylim(0,1)\n",
    "    display.display(plt.gcf())\n",
    "    display.clear_output(wait=True)\n",
    "    \n",
    "# train/compare vanilla sgd and ewc\n",
    "#非压缩用 1model\n",
    "def train_task(model, num_iter, disp_freq, trainset, testsets, x, y_, keep_prob, lams=[0]):\n",
    "    for l in range(len(lams)):\n",
    "        # lams[l] sets weight on old task(s)\n",
    "        model.restore(sess) # reassign optimal weights from previous training session\n",
    "        if(lams[l] == 0):\n",
    "            model.set_vanilla_loss()\n",
    "        else:\n",
    "            model.update_ewc_loss(lams[l])\n",
    "        # initialize test accuracy array for each task \n",
    "        test_accs = []\n",
    "        for task in range(len(testsets)):\n",
    "            test_accs.append(np.zeros(num_iter//disp_freq))\n",
    "        # train on current task\n",
    "        for iter in range(num_iter):\n",
    "            batch = trainset.train.next_batch(100)\n",
    "            model.learning_rate= sess.run(model.learning_rate1, feed_dict={model.global_: iter})\n",
    "            model.train_step.run(feed_dict={x: batch[0], y_: batch[1],keep_prob:0.5})\n",
    "            if iter % disp_freq == 0:\n",
    "                plt.subplot(1, len(lams), l+1)\n",
    "                plots = []\n",
    "                colors = ['r', 'b', 'g']\n",
    "                for task in range(len(testsets)):\n",
    "                    feed_dict={x: testsets[task].test.images, y_: testsets[task].test.labels,keep_prob:1}\n",
    "                    test_accs[task][iter//disp_freq] = model.accuracy.eval(feed_dict=feed_dict)\n",
    "                    c = chr(ord('A') + task)\n",
    "                    accuracy.write(str(test_accs[task][:iter // disp_freq + 1])+\"\\n\")\n",
    "                    plot_h, = plt.plot(range(1,iter+2,disp_freq), test_accs[task][:iter//disp_freq+1], colors[task], label=\"task \" + c)\n",
    "                    plots.append(plot_h)\n",
    "                #print(plots)\n",
    "                plot_test_acc(plots)\n",
    "                if l == 0: \n",
    "                    plt.title(\"vanilla sgd\")\n",
    "                else:\n",
    "                    plt.title(\"ewc\")\n",
    "                plt.gcf().set_size_inches(len(lams)*5, 3.5)\n",
    "\n",
    "                "
   ]
  },
  {
   "cell_type": "code",
   "execution_count": 8,
   "metadata": {},
   "outputs": [
    {
     "name": "stdout",
     "output_type": "stream",
     "text": [
      "WARNING:tensorflow:From <ipython-input-8-6f51cb2ab228>:2: read_data_sets (from tensorflow.contrib.learn.python.learn.datasets.mnist) is deprecated and will be removed in a future version.\n",
      "Instructions for updating:\n",
      "Please use alternatives such as official/mnist/dataset.py from tensorflow/models.\n",
      "WARNING:tensorflow:From /home/user/anaconda3/lib/python3.6/site-packages/tensorflow/contrib/learn/python/learn/datasets/mnist.py:260: maybe_download (from tensorflow.contrib.learn.python.learn.datasets.base) is deprecated and will be removed in a future version.\n",
      "Instructions for updating:\n",
      "Please write your own downloading logic.\n",
      "WARNING:tensorflow:From /home/user/anaconda3/lib/python3.6/site-packages/tensorflow/contrib/learn/python/learn/datasets/mnist.py:262: extract_images (from tensorflow.contrib.learn.python.learn.datasets.mnist) is deprecated and will be removed in a future version.\n",
      "Instructions for updating:\n",
      "Please use tf.data to implement this functionality.\n",
      "Extracting data/fashion/train-images-idx3-ubyte.gz\n",
      "WARNING:tensorflow:From /home/user/anaconda3/lib/python3.6/site-packages/tensorflow/contrib/learn/python/learn/datasets/mnist.py:267: extract_labels (from tensorflow.contrib.learn.python.learn.datasets.mnist) is deprecated and will be removed in a future version.\n",
      "Instructions for updating:\n",
      "Please use tf.data to implement this functionality.\n",
      "Extracting data/fashion/train-labels-idx1-ubyte.gz\n",
      "WARNING:tensorflow:From /home/user/anaconda3/lib/python3.6/site-packages/tensorflow/contrib/learn/python/learn/datasets/mnist.py:110: dense_to_one_hot (from tensorflow.contrib.learn.python.learn.datasets.mnist) is deprecated and will be removed in a future version.\n",
      "Instructions for updating:\n",
      "Please use tf.one_hot on tensors.\n",
      "Extracting data/fashion/t10k-images-idx3-ubyte.gz\n",
      "Extracting data/fashion/t10k-labels-idx1-ubyte.gz\n",
      "WARNING:tensorflow:From /home/user/anaconda3/lib/python3.6/site-packages/tensorflow/contrib/learn/python/learn/datasets/mnist.py:290: DataSet.__init__ (from tensorflow.contrib.learn.python.learn.datasets.mnist) is deprecated and will be removed in a future version.\n",
      "Instructions for updating:\n",
      "Please use alternatives such as official/mnist/dataset.py from tensorflow/models.\n",
      "Extracting MNIST_data/train-images-idx3-ubyte.gz\n",
      "Extracting MNIST_data/train-labels-idx1-ubyte.gz\n",
      "Extracting MNIST_data/t10k-images-idx3-ubyte.gz\n",
      "Extracting MNIST_data/t10k-labels-idx1-ubyte.gz\n"
     ]
    }
   ],
   "source": [
    "#下载fashion-mnist数据集\n",
    "fash_mnist=input_data.read_data_sets('data/fashion',one_hot=True)\n",
    "\n",
    "#下载mnist数据集\n",
    "mnist = input_data.read_data_sets('MNIST_data', one_hot=True)"
   ]
  },
  {
   "cell_type": "code",
   "execution_count": 9,
   "metadata": {},
   "outputs": [],
   "source": [
    "sess = tf.InteractiveSession()"
   ]
  },
  {
   "cell_type": "code",
   "execution_count": 10,
   "metadata": {},
   "outputs": [],
   "source": [
    "# define input and target placeholders\n",
    "with tf.name_scope('input'):\n",
    "    keep_prob = tf.placeholder(tf.float32)\n",
    "    x = tf.placeholder(tf.float32, shape=[None, 784])\n",
    "    y_ = tf.placeholder(tf.float32, shape=[None, 10])\n",
    "    y1_ = tf.placeholder(tf.float32,shape=[None,10])\n",
    "    y11_ = tf.placeholder(tf.float32,shape = [None,10])\n",
    "    y111_ = tf.placeholder(tf.float32,shape = [None,10])\n"
   ]
  },
  {
   "cell_type": "code",
   "execution_count": 11,
   "metadata": {},
   "outputs": [
    {
     "name": "stdout",
     "output_type": "stream",
     "text": [
      "WARNING:tensorflow:From /home/user/Public/lidan/model_last.py:74: softmax_cross_entropy_with_logits (from tensorflow.python.ops.nn_ops) is deprecated and will be removed in a future version.\n",
      "Instructions for updating:\n",
      "\n",
      "Future major versions of TensorFlow will allow gradients to flow\n",
      "into the labels input on backprop by default.\n",
      "\n",
      "See @{tf.nn.softmax_cross_entropy_with_logits_v2}.\n",
      "\n"
     ]
    }
   ],
   "source": [
    "# instantiate new model\n",
    "model = Model(x, y_,y1_,y11_,y111_,keep_prob) # simple 2-layer network"
   ]
  },
  {
   "cell_type": "code",
   "execution_count": 12,
   "metadata": {},
   "outputs": [],
   "source": [
    "# initialize variables\n",
    "sess.run(tf.global_variables_initializer())\n",
    "\n"
   ]
  },
  {
   "cell_type": "markdown",
   "metadata": {},
   "source": [
    "#### train on task A, test on task A"
   ]
  },
  {
   "cell_type": "code",
   "execution_count": 13,
   "metadata": {
    "scrolled": false
   },
   "outputs": [
    {
     "data": {
      "image/png": "[encoded data removed]",
      "text/plain": [
       "<Figure size 360x252 with 1 Axes>"
      ]
     },
     "metadata": {},
     "output_type": "display_data"
    }
   ],
   "source": [
    "# training 1st task on fashion_mnist datasets\n",
    "train_task(model, 8000, 20, mnist, [mnist], x, y_,keep_prob, lams=[0])"
   ]
  },
  {
   "cell_type": "code",
   "execution_count": 14,
   "metadata": {},
   "outputs": [
    {
     "data": {
      "text/plain": [
       "0.03757237"
      ]
     },
     "execution_count": 14,
     "metadata": {},
     "output_type": "execute_result"
    }
   ],
   "source": [
    "sess.run(model.learning_rate1, feed_dict={model.global_: 700})   "
   ]
  },
  {
   "cell_type": "code",
   "execution_count": 15,
   "metadata": {},
   "outputs": [
    {
     "data": {
      "image/png": "[encoded data removed]",
      "text/plain": [
       "<Figure size 432x288 with 1 Axes>"
      ]
     },
     "metadata": {},
     "output_type": "display_data"
    }
   ],
   "source": [
    "# Fisher information\n",
    "model.compute_fisher(mnist.validation.images, sess, num_samples=200, plot_diffs=True) # use validation set for Fisher computation\n"
   ]
  },
  {
   "cell_type": "code",
   "execution_count": 17,
   "metadata": {},
   "outputs": [],
   "source": [
    "def givemask(model,drop_connect):\n",
    "\n",
    "    temp_accum = deepcopy(model.F_accum) \n",
    "\n",
    "    a_temp = np.mat(np.zeros((1,4)))\n",
    "    for i in range(len(model.F_accum)):\n",
    "        temp_accum[i] = np.reshape(temp_accum[i],[1,-1])\n",
    "        temp_accum[i].sort() ;\n",
    "        a_temp[0,i]= temp_accum[i][0,np.shape(temp_accum[i])[1]//20*drop_connect]  \n",
    "    temp_accum = deepcopy(model.F_accum) \n",
    "#     for i in range(len(model.F_accum)):\n",
    "#         print np.shape(model.F_accum[i])\n",
    "#     for i in range(len(model.F_accum)):\n",
    "#         print np.shape(temp_accum[i])        \n",
    "    for i in range(len(model.F_accum)):\n",
    "        #print(np.shape(temp_accum[i]))\n",
    "        temp_accum[i] = np.mat(temp_accum[i])\n",
    "        \n",
    "#         print(\"fuck\")\n",
    "        #print(np.shape(temp_accum[i]))\n",
    "        for j in range(np.shape(temp_accum[i])[0]):\n",
    "            for k in range(np.shape(temp_accum[i])[1]):\n",
    "                try:\n",
    "                \n",
    "                    if temp_accum[i][j,k] >=  a_temp[0,i] :\n",
    "                        temp_accum[i][j,k] = 1 \n",
    "                    else :\n",
    "                        temp_accum[i][j,k] = 0;\n",
    "                except:\n",
    "                    print(temp_accum[i][j,k],a_temp[0,i])\n",
    "#     for i in range(len(model.F_accum)):\n",
    "#         result[i] = tf.multiply(model.var_list[i],temp_accum[i])\n",
    "\n",
    "#     for i in range(len(model.F_accum)):\n",
    "#         print np.shape(temp_a     ccum[i])\n",
    "    \n",
    "    return temp_accum\n",
    "def makezero(model,mask):\n",
    "    result = [0,0,0,0]\n",
    "    for i in range(len(model.F_accum)):\n",
    "        result[i] = tf.multiply(model.var_list[i],mask[i]) \n",
    "        \n",
    "        \n",
    "    sess.run(model.W1.assign(result[0]))\n",
    "    sess.run(model.b1.assign(tf.reshape(tf.transpose(result[1]),[-1])))\n",
    "    sess.run(model.W2.assign(result     [2]))\n",
    "    sess.run(model.b2.assign(tf.reshape(tf.transpose(result[3]),[-1])))\n",
    "#     print \"fuck\"\n",
    "#     print mask[3]\n",
    "#     print sess.run(model.var_list[3])\n",
    "#     print sess.run(model.b2)\n",
    "#     print sess.run(result[3])\n",
    "#     print sess.run(tf.reshape(tf.transpose(result[3]),[-1]))\n",
    "#     print \"fcuk\"\n",
    "    \n",
    "def train_task1(model, num_iter, disp_freq, trainset, testsets, x, y_, keep_prob, lams=[0]):\n",
    "    for l in range(len(lams)):\n",
    "        # lams[l] sets weight on old task(s)\n",
    "        model.restore(sess) # reassign optimal weights from previous training session\n",
    "        model.learning_rate = 0.05\n",
    "        if(lams[l] == 0):\n",
    "            model.set_vanilla_loss()\n",
    "        else:\n",
    "            model.update_ewc_loss(lams[l])\n",
    "        # initialize test accuracy array for each task \n",
    "        test_accs = []\n",
    "        for task in range(len(testsets)):\n",
    "            test_accs.append(np.zeros(num_iter//disp_freq))\n",
    "        # train on current task\n",
    "        for iter in range(num_iter):\n",
    "            batch = trainset.train.next_batch(50)\n",
    "            if iter%20==0:\n",
    "                makezero(model,mask)\n",
    "            model.learning_rate= sess.run(model.learning_rate1, feed_dict={model.global_: iter})\n",
    "            model.train_step.run(feed_dict={x: batch[0], y_: batch[1],keep_prob:0.5})            \n",
    "            if iter % disp_freq == 0:\n",
    "                plt.subplot(1, len(lams), l+1)\n",
    "                plots = []\n",
    "                colors = ['r', 'b', 'g']\n",
    "                for task in range(len(testsets)):\n",
    "                    feed_dict={x: testsets[task].test.images, y_: testsets[task].test.labels,keep_prob:1}\n",
    "                    test_accs[task][iter//disp_freq] = model.accuracy.eval(feed_dict=feed_dict)\n",
    "                    temp_result = test_accs[task][iter//disp_freq]\n",
    "                    c = chr(ord('A') + task)\n",
    "                    accuracy.write(str(test_accs[task][:iter // disp_freq + 1])+\"\\n\")\n",
    "                    plot_h, = plt.plot(range(1,iter+2,disp_freq), test_accs[task][:iter//disp_freq+1], colors[task], label=\"task \" + c)\n",
    "                    plots.append(plot_h)\n",
    "                #print(plots)\n",
    "                plot_test_acc(plots)\n",
    "                if lams[l] == 0: \n",
    "                    plt.title(\"vanilla sgd\")\n",
    "                else:\n",
    "                    plt.title(\"ewc\")\n",
    "                plt.gcf().set_size_inches(len(lams)*5, 3.5)\n",
    "    return temp_result\n",
    "    \n",
    "    "
   ]
  },
  {
   "cell_type": "code",
   "execution_count": 18,
   "metadata": {
    "scrolled": true
   },
   "outputs": [],
   "source": [
    "#mask = givemask(model,1)\n",
    "# mask =givemask(model,1)#给出mask矩\n",
    "# makezero(model,mask)#加入图中"
   ]
  },
  {
   "cell_type": "code",
   "execution_count": 19,
   "metadata": {},
   "outputs": [],
   "source": [
    "# #train_task1(model, 800, 40, mnist, [mnist], x, y_,keep_prob, lams=[0])\n",
    "   \n",
    "# trainsk1(model, 400, 100, mnist, [mnist], x, y_,keep_prob, lams=[0])_ta"
   ]
  },
  {
   "cell_type": "code",
   "execution_count": 20,
   "metadata": {},
   "outputs": [
    {
     "name": "stdout",
     "output_type": "stream",
     "text": [
      "0.9079999923706055\n"
     ]
    },
    {
     "data": {
      "image/png": "[encoded data removed]",
      "text/plain": [
       "<Figure size 360x252 with 1 Axes>"
      ]
     },
     "metadata": {},
     "output_type": "display_data"
    }
   ],
   "source": [
    "temp = [0]\n",
    "for i in range(1,5):\n",
    "    model.compute_fisher(mnist.validation.images, sess, num_samples=200, plot_diffs=False)\n",
    "    mask =givemask(model,i)#给出mask矩阵\n",
    "    print(i) \n",
    "    print(mask)\n",
    "    makezero(model,mask)#加入图中\n",
    "    model.star()\n",
    "    temp.append(train_task1(model, 1000, 20, mnist, [mnist], x, y_,keep_prob, lams=[5]))\n",
    "    print(temp[i]) \n",
    "\n",
    "#     if(temp<0.9):\n",
    "#         temp = train_task1(model, 400, 50, mnist, [mnist], x, y_,keep_prob, lams=[0])\n",
    "#         print temp \n",
    "#         if(temp<0.9):\n",
    "#             break \n"
   ]
  },
  {
   "cell_type": "code",
   "execution_count": 16,
   "metadata": {},
   "outputs": [
    {
     "ename": "NameError",
     "evalue": "name 'mask' is not defined",
     "output_type": "error",
     "traceback": [
      "\u001b[0;31m---------------------------------------------------------------------------\u001b[0m",
      "\u001b[0;31mNameError\u001b[0m                                 Traceback (most recent call last)",
      "\u001b[0;32m<ipython-input-16-ac8742eececd>\u001b[0m in \u001b[0;36m<module>\u001b[0;34m()\u001b[0m\n\u001b[0;32m----> 1\u001b[0;31m \u001b[0mmodel\u001b[0m\u001b[0;34m.\u001b[0m\u001b[0mmask1\u001b[0m \u001b[0;34m=\u001b[0m \u001b[0mmask\u001b[0m\u001b[0;34m\u001b[0m\u001b[0m\n\u001b[0m\u001b[1;32m      2\u001b[0m \u001b[0mprint\u001b[0m\u001b[0;34m(\u001b[0m\u001b[0mmodel\u001b[0m\u001b[0;34m.\u001b[0m\u001b[0mF_accum\u001b[0m\u001b[0;34m)\u001b[0m\u001b[0;34m\u001b[0m\u001b[0m\n",
      "\u001b[0;31mNameError\u001b[0m: name 'mask' is not defined"
     ]
    }
   ],
   "source": [
    "model.mask1 = mask \n",
    "print(model.F_accum)"
   ]
  },
  {
   "cell_type": "code",
   "execution_count": 17,
   "metadata": {},
   "outputs": [],
   "source": [
    "model.save_accum()#save"
   ]
  },
  {
   "cell_type": "code",
   "execution_count": 23,
   "metadata": {},
   "outputs": [
    {
     "name": "stdout",
     "output_type": "stream",
     "text": [
      "[0, 0.9077000021934509, 0.9074000120162964, 0.9059000015258789, 0.9079999923706055]\n"
     ]
    }
   ],
   "source": [
    "print(temp)"
   ]
  },
  {
   "cell_type": "code",
   "execution_count": 24,
   "metadata": {},
   "outputs": [
    {
     "name": "stdout",
     "output_type": "stream",
     "text": [
      "0\n",
      "0.9077000021934509\n",
      "0.9074000120162964\n",
      "0.9059000015258789\n",
      "0.9079999923706055\n"
     ]
    }
   ],
   "source": [
    "for k in temp :\n",
    "    print(k)"
   ]
  },
  {
   "cell_type": "code",
   "execution_count": 18,
   "metadata": {},
   "outputs": [],
   "source": [
    "#不压缩用\n",
    "def train_task2(model, num_iter, disp_freq, trainset, testsets, x, y_,y1_, keep_prob, lams=[0]):\n",
    "    for l in range(len(lams)):\n",
    "        # lams[l] sets weight on old task(s)\n",
    "        model.restore_output(sess) # reassign optimal weights from previous training session\n",
    "        model.learning_rate = 0.05\n",
    "        if(lams[l] == 0):\n",
    "            model.self.set_vanilla_loss_output()\n",
    "        else:\n",
    "            model.update_ewc_loss_output(lams[l])\n",
    "        # initialize test accuracy array for each task \n",
    "        test_accs = []\n",
    "        for task in range(len(testsets)):\n",
    "            test_accs.append(np.zeros(num_iter//disp_freq))\n",
    "        # train on current task\n",
    "        for iter in range(num_iter):\n",
    "            batch1 = trainset.train.next_batch(50)\n",
    "            model.learning_rate= sess.run(model.learning_rate1, feed_dict={model.global_: iter})\n",
    "            model.train_step_ewc_output.run(feed_dict={x: batch1[0], y1_: batch1[1],keep_prob:0.5})            \n",
    "            if iter % disp_freq == 0:\n",
    "                plt.subplot(1, len(lams), l+1)\n",
    "                plots = []\n",
    "                colors = ['r', 'b', 'g']\n",
    "                for task in range(len(testsets)):\n",
    "                    if task%2 == 0:\n",
    "                        feed_dict={x: testsets[task].test.images, y_: testsets[task].test.labels,keep_prob:1}\n",
    "                        test_accs[task][iter//disp_freq] = model.accuracy.eval(feed_dict=feed_dict)\n",
    "                        temp_result = test_accs[task][iter//disp_freq]\n",
    "                        \n",
    "                    else:\n",
    "                        feed_dict={x: testsets[task].test.images, y1_: testsets[task].test.labels,keep_prob:1}\n",
    "                        test_accs[task][iter//disp_freq] = model.accuracy_output.eval(feed_dict=feed_dict)\n",
    "                        temp_result = test_accs[task][iter//disp_freq]\n",
    "                    c = chr(ord('A') + task)\n",
    "                    accuracy.write(str(test_accs[task][:iter // disp_freq + 1])+\"\\n\")\n",
    "                    plot_h, = plt.plot(range(1,iter+2,disp_freq), test_accs[task][:iter//disp_freq+1], colors[task], label=\"task \" + c)\n",
    "                    plots.append(plot_h)\n",
    "                        \n",
    "                        \n",
    "                #print(plots)\n",
    "                plot_test_acc(plots)\n",
    "                if lams[l] == 0: \n",
    "                    plt.title(\"vanilla sgd\")\n",
    "                else:\n",
    "                    plt.title(\"ewc\")\n",
    "                plt.gcf().set_size_inches(len(lams)*5, 3.5)\n",
    "    return temp_result\n",
    "#压缩用\n",
    "def train_task22(model, num_iter, disp_freq, trainset, testsets, x, y_,y1_, keep_prob, lams=[0]):\n",
    "    for l in range(len(lams)):\n",
    "        # lams[l] sets weight on old task(s)\n",
    "        model.restore_output(sess) # reassign optimal weights from previous training session\n",
    "        model.learning_rate = 0.05 \n",
    "        if(lams[l] == 0):\n",
    "            model.set_vanilla_loss_output()\n",
    "        else:\n",
    "            model.update_ewc_loss_output(lams[l])\n",
    "        # initialize test accuracy array for each task \n",
    "        test_accs = []\n",
    "        for task in range(len(testsets)):\n",
    "            test_accs.append(np.zeros(num_iter//disp_freq))\n",
    "        # train on current task\n",
    "        for iter in range(num_iter):\n",
    "            batch1 = trainset.train.next_batch(50)\n",
    "            if iter%20==0:\n",
    "                makezero(model,mask)\n",
    "            model.learning_rate= sess.run(model.learning_rate1, feed_dict={model.global_: iter})\n",
    "            model.train_step_ewc_output.run(feed_dict={x: batch1[0], y1_: batch1[1],keep_prob:0.5})            \n",
    "            if iter % disp_freq == 0:\n",
    "                plt.subplot(1, len(lams), l+1)\n",
    "                plots = []\n",
    "                colors = ['r', 'b', 'g']\n",
    "                for task in range(len(testsets)):\n",
    "                    if task%2 == 0:\n",
    "                        feed_dict={x: testsets[task].test.images, y_: testsets[task].test.labels,keep_prob:1}\n",
    "                        test_accs[task][iter//disp_freq] = model.accuracy.eval(feed_dict=feed_dict)\n",
    "                        temp_result = test_accs[task][iter//disp_freq]\n",
    "                        \n",
    "                    else:\n",
    "                        feed_dict={x: testsets[task].test.images, y1_: testsets[task].test.labels,keep_prob:1}\n",
    "                        test_accs[task][iter//disp_freq] = model.accuracy_output.eval(feed_dict=feed_dict)\n",
    "                        temp_result = test_accs[task][iter//disp_freq]\n",
    "                    c = chr(ord('A') + task)\n",
    "                    accuracy.write(str(test_accs[task][:iter // disp_freq + 1])+\"\\n\")\n",
    "                    plot_h, = plt.plot(range(1,iter+2,disp_freq), test_accs[task][:iter//disp_freq+1], colors[task], label=\"task \" + c)\n",
    "                    plots.append(plot_h)\n",
    "                        \n",
    "                        \n",
    "                #print(plots)\n",
    "                plot_test_acc(plots)\n",
    "                if lams[l] == 0: \n",
    "                    plt.title(\"vanilla sgd\")\n",
    "                else:\n",
    "                    plt.title(\"ewc\")\n",
    "                plt.gcf().set_size_inches(len(lams)*5, 3.5)\n",
    "    return temp_result"
   ]
  },
  {
   "cell_type": "code",
   "execution_count": null,
   "metadata": {},
   "outputs": [],
   "source": [
    "\n",
    "        "
   ]
  },
  {
   "cell_type": "code",
   "execution_count": 19,
   "metadata": {},
   "outputs": [
    {
     "data": {
      "image/png": "[encoded data removed]",
      "text/plain": [
       "<Figure size 432x288 with 1 Axes>"
      ]
     },
     "metadata": {},
     "output_type": "display_data"
    }
   ],
   "source": [
    "# Fisher information\n",
    "model.compute_fisher(mnist.validation.images, sess, num_samples=200, plot_diffs=True)\n",
    "# use validation set for Fisher computation\n"
   ]
  },
  {
   "cell_type": "code",
   "execution_count": 20,
   "metadata": {},
   "outputs": [],
   "source": [
    "\n",
    "model.star_output()"
   ]
  },
  {
   "cell_type": "code",
   "execution_count": null,
   "metadata": {},
   "outputs": [],
   "source": []
  },
  {
   "cell_type": "code",
   "execution_count": 21,
   "metadata": {},
   "outputs": [
    {
     "data": {
      "text/plain": [
       "0.7483000159263611"
      ]
     },
     "execution_count": 21,
     "metadata": {},
     "output_type": "execute_result"
    },
    {
     "data": {
      "image/png": "[encoded data removed]",
      "text/plain": [
       "<Figure size 360x252 with 1 Axes>"
      ]
     },
     "metadata": {},
     "output_type": "display_data"
    }
   ],
   "source": [
    "train_task2(model, 4000, 20, fash_mnist, [ mnist,fash_mnist], x, y_,y1_, keep_prob,lams=[5])"
   ]
  },
  {
   "cell_type": "code",
   "execution_count": 29,
   "metadata": {},
   "outputs": [
    {
     "name": "stdout",
     "output_type": "stream",
     "text": [
      "0.7653999924659729\n"
     ]
    },
    {
     "data": {
      "image/png": "[encoded data removed]",
      "text/plain": [
       "<Figure size 360x252 with 1 Axes>"
      ]
     },
     "metadata": {},
     "output_type": "display_data"
    }
   ],
   "source": [
    "temp1 = [0]\n",
    "for i in range(1,3):\n",
    "    \n",
    "    model.compute_fisher_output(fash_mnist.validation.images, sess, num_samples=200, plot_diffs=False)\n",
    "    \n",
    "    mask =givemask(model,i)#先根据本模型的压缩给出mask矩阵\n",
    "    mask = model.or_mask(mask,model.mask1)\n",
    "    \n",
    "    model.get_F_accum()#加上上一个对付retrain\n",
    "   \n",
    "    makezero(model,mask)#加入图中\n",
    "    model.star_output()\n",
    "    temp1.append(train_task22(model, 1000, 20, fash_mnist, [ mnist,fash_mnist], x, y_,y1_, keep_prob,lams=[5]))\n",
    "    print(temp1[i]) \n",
    "#     if temp1[i]<0.725 :\n",
    "#         break "
   ]
  },
  {
   "cell_type": "code",
   "execution_count": 30,
   "metadata": {},
   "outputs": [
    {
     "name": "stdout",
     "output_type": "stream",
     "text": [
      "[matrix([[1., 1., 1., ..., 1., 1., 1.],\n",
      "        [1., 1., 1., ..., 1., 1., 1.],\n",
      "        [1., 1., 1., ..., 1., 1., 1.],\n",
      "        ...,\n",
      "        [1., 1., 1., ..., 1., 1., 1.],\n",
      "        [1., 1., 1., ..., 1., 1., 1.],\n",
      "        [1., 1., 1., ..., 1., 1., 1.]]), matrix([[1., 1., 1., 1., 1., 1., 1., 1., 1., 1., 1., 1., 1., 1., 1., 1.]]), matrix([[1., 1., 1., 1., 1., 1., 1., 1., 1., 1.],\n",
      "        [1., 1., 1., 1., 1., 1., 1., 1., 1., 1.],\n",
      "        [1., 0., 1., 1., 1., 1., 1., 1., 1., 1.],\n",
      "        [1., 1., 1., 1., 1., 1., 1., 1., 1., 1.],\n",
      "        [1., 1., 1., 1., 1., 1., 1., 1., 1., 1.],\n",
      "        [1., 1., 1., 1., 1., 0., 1., 1., 1., 1.],\n",
      "        [1., 1., 1., 1., 1., 1., 1., 1., 1., 1.],\n",
      "        [1., 1., 1., 1., 1., 1., 1., 1., 1., 1.],\n",
      "        [1., 0., 1., 1., 1., 1., 1., 1., 1., 1.],\n",
      "        [1., 1., 1., 1., 1., 1., 1., 1., 1., 1.],\n",
      "        [1., 1., 1., 1., 1., 1., 1., 1., 1., 1.],\n",
      "        [1., 1., 0., 1., 1., 1., 0., 1., 1., 1.],\n",
      "        [1., 1., 1., 1., 1., 1., 1., 1., 1., 1.],\n",
      "        [1., 1., 1., 1., 1., 1., 1., 1., 1., 1.],\n",
      "        [1., 1., 1., 1., 1., 1., 1., 1., 1., 1.],\n",
      "        [1., 1., 1., 1., 1., 1., 1., 1., 1., 1.]]), matrix([[1., 1., 1., 1., 1., 1., 1., 1., 1., 1.]])]\n"
     ]
    }
   ],
   "source": [
    "model.mask2 = mask \n",
    "print(mask)\n"
   ]
  },
  {
   "cell_type": "code",
   "execution_count": 22,
   "metadata": {},
   "outputs": [],
   "source": [
    "model.save_last_accum()#save"
   ]
  },
  {
   "cell_type": "markdown",
   "metadata": {},
   "source": []
  },
  {
   "cell_type": "code",
   "execution_count": 23,
   "metadata": {},
   "outputs": [
    {
     "data": {
      "image/png": "[encoded data removed]",
      "text/plain": [
       "<Figure size 432x288 with 1 Axes>"
      ]
     },
     "metadata": {},
     "output_type": "display_data"
    }
   ],
   "source": [
    "\n",
    "model.compute_fisher_output(fash_mnist.validation.images, sess, num_samples=200, plot_diffs=True)\n",
    "model.get_F_accum()\n",
    "\n"
   ]
  },
  {
   "cell_type": "markdown",
   "metadata": {},
   "source": [
    "#### train on task B, test on tasks A and B"
   ]
  },
  {
   "cell_type": "code",
   "execution_count": 24,
   "metadata": {},
   "outputs": [
    {
     "data": {
      "image/png": "[encoded data removed]",
      "text/plain": [
       "<Figure size 432x288 with 2 Axes>"
      ]
     },
     "metadata": {},
     "output_type": "display_data"
    }
   ],
   "source": [
    "# permuting mnist for 2nd task\n",
    "mnist2 = permute_mnist(fash_mnist)\n",
    "plt.subplot(1,2,1)\n",
    "mnist_imshow(fash_mnist.train.images[1])\n",
    "plt.title(\"original task image\")\n",
    "plt.subplot(1,2,2)\n",
    "mnist_imshow(mnist2.train.images[1])\n",
    "plt.title(\"new task image\");"
   ]
  },
  {
   "cell_type": "code",
   "execution_count": 25,
   "metadata": {},
   "outputs": [],
   "source": [
    "#非压缩用\n",
    "def train_task_all(model, num_iter, disp_freq, trainset, testsets, x, y_,y1_,y11_, keep_prob, lams=[0]):\n",
    "    for l in range(len(lams)):\n",
    "        # lams[l] sets weight on old task(s)\n",
    "        model.restore_output1(sess) # reassign optimal weights from previous training session\n",
    "        model.learning_rate = 0.05 \n",
    "        if(lams[l] == 0):\n",
    "            model.set_vanilla_loss_output1()\n",
    "        else:\n",
    "            model.update_ewc_loss_output_all(lams[l] )\n",
    "        # initialize test accuracy array for each task \n",
    "        test_accs = []\n",
    "        for task in range(len(testsets)):\n",
    "            test_accs.append(np.zeros(num_iter//disp_freq))\n",
    "        # train on current task\n",
    "        for iter in range(num_iter):\n",
    "            batch = trainset.train.next_batch(100)\n",
    "            model.learning_rate= sess.run(model.learning_rate1, feed_dict={model.global_: iter})\n",
    "            model.train_step_ewc_output1.run(feed_dict={x: batch[0], y11_: batch[1],keep_prob:0.5})            \n",
    "            if iter % disp_freq == 0:\n",
    "                plt.subplot(1, len(lams), l+1)\n",
    "                plots = []\n",
    "                colors = ['r', 'b', 'g']\n",
    "                for task in range(len(testsets)):\n",
    "                    if task%3 == 0:\n",
    "                        feed_dict={x: testsets[task].test.images, y_: testsets[task].test.labels,keep_prob:1}\n",
    "                        test_accs[task][iter//disp_freq] = model.accuracy.eval(feed_dict=feed_dict)\n",
    "                        temp_result = test_accs[task][iter//disp_freq]\n",
    "                        \n",
    "                    elif task%3==1:\n",
    "                        feed_dict={x: testsets[task].test.images, y1_: testsets[task].test.labels,keep_prob:1}\n",
    "                        test_accs[task][iter//disp_freq] = model.accuracy_output.eval(feed_dict=feed_dict)\n",
    "                        temp_result = test_accs[task][iter//disp_freq]\n",
    "                    elif task%3==2:\n",
    "                        feed_dict={x: testsets[task].test.images, y11_: testsets[task].test.labels,keep_prob:1}\n",
    "                        test_accs[task][iter//disp_freq] = model.accuracy_output1.eval(feed_dict=feed_dict)\n",
    "                        temp_result = test_accs[task][iter//disp_freq]\n",
    "                    c = chr(ord('A') + task)\n",
    "                    accuracy.write(str(test_accs[task][:iter // disp_freq + 1])+\"\\n\")\n",
    "                    plot_h, = plt.plot(range(1,iter+2,disp_freq), test_accs[task][:iter//disp_freq+1], colors[task], label=\"task \" + c)\n",
    "                    plots.append(plot_h)\n",
    "                #print(plots)\n",
    "                plot_test_acc(plots)\n",
    "                if lams[l] == 0: \n",
    "                    plt.title(\"vanilla sgd\")\n",
    "                else:\n",
    "                    plt.title(\"ewc\")\n",
    "                plt.gcf().set_size_inches(len(lams)*5, 3.5)\n",
    "    return temp_result\n",
    "\n",
    "#压缩用\n",
    "def train_task_all1(model, num_iter, disp_freq, trainset, testsets, x, y_,y1_,y11_, keep_prob, lams=[0]):\n",
    "    for l in range(len(lams)):\n",
    "        # lams[l] sets weight on old task(s)\n",
    "        model.restore_output1(sess) # reassign optimal weights from previous training session\n",
    "        model.learning_rate = 0.05 \n",
    "        if(lams[l] == 0):\n",
    "            model.set_vanilla_loss_output1()\n",
    "        else:\n",
    "            model.update_ewc_loss_output_all(lams[l] )\n",
    "        # initialize test accuracy array for each task \n",
    "        test_accs = []\n",
    "        for task in range(len(testsets)):\n",
    "            test_accs.append(np.zeros(num_iter//disp_freq))\n",
    "        # train on current task\n",
    "        for iter in range(num_iter):\n",
    "            batch = trainset.train.next_batch(100)\n",
    "            if iter%20==0:\n",
    "                makezero(model,mask)\n",
    "            model.learning_rate= sess.run(model.learning_rate1, feed_dict={model.global_: iter})\n",
    "            model.train_step_ewc_output1.run(feed_dict={x: batch[0], y11_: batch[1],keep_prob:0.5})            \n",
    "            if iter % disp_freq == 0:\n",
    "                plt.subplot(1, len(lams), l+1)\n",
    "                plots = []\n",
    "                colors = ['r', 'b', 'g']\n",
    "                for task in range(len(testsets)):\n",
    "                    if task%3 == 0:\n",
    "                        feed_dict={x: testsets[task].test.images, y_: testsets[task].test.labels,keep_prob:1}\n",
    "                        test_accs[task][iter//disp_freq] = model.accuracy.eval(feed_dict=feed_dict)\n",
    "                        temp_result = test_accs[task][iter//disp_freq]\n",
    "                        \n",
    "                    elif task%3==1:\n",
    "                        feed_dict={x: testsets[task].test.images, y1_: testsets[task].test.labels,keep_prob:1}\n",
    "                        test_accs[task][iter//disp_freq] = model.accuracy_output.eval(feed_dict=feed_dict)\n",
    "                        temp_result = test_accs[task][iter//disp_freq]\n",
    "                    elif task%3==2:\n",
    "                        feed_dict={x: testsets[task].test.images, y11_: testsets[task].test.labels,keep_prob:1}\n",
    "                        test_accs[task][iter//disp_freq] = model.accuracy_output1.eval(feed_dict=feed_dict)\n",
    "                        temp_result = test_accs[task][iter//disp_freq]\n",
    "                    c = chr(ord('A') + task)\n",
    "                    accuracy.write(str(test_accs[task][:iter // disp_freq + 1])+\"\\n\")\n",
    "                    plot_h, = plt.plot(range(1,iter+2,disp_freq), test_accs[task][:iter//disp_freq+1], colors[task], label=\"task \" + c)\n",
    "                    plots.append(plot_h)\n",
    "                #print(plots)\n",
    "                plot_test_acc(plots)\n",
    "                if lams[l] == 0: \n",
    "                    plt.title(\"vanilla sgd\")\n",
    "                else:\n",
    "                    plt.title(\"ewc\")\n",
    "                plt.gcf().set_size_inches(len(lams)*5, 3.5)\n",
    "    return temp_result"
   ]
  },
  {
   "cell_type": "code",
   "execution_count": 26,
   "metadata": {},
   "outputs": [],
   "source": [
    "# save current optimal weights\n",
    "model.star_output1()"
   ]
  },
  {
   "cell_type": "code",
   "execution_count": 27,
   "metadata": {},
   "outputs": [
    {
     "data": {
      "text/plain": [
       "0.7390999794006348"
      ]
     },
     "execution_count": 27,
     "metadata": {},
     "output_type": "execute_result"
    },
    {
     "data": {
      "image/png": "[encoded data removed]",
      "text/plain": [
       "<Figure size 360x252 with 1 Axes>"
      ]
     },
     "metadata": {},
     "output_type": "display_data"
    }
   ],
   "source": [
    "# training 2nd task\n",
    "train_task_all(model, 4000, 20, mnist2, [mnist,fash_mnist, mnist2],x, y_,y1_,y11_,keep_prob, lams=[5])\n"
   ]
  },
  {
   "cell_type": "code",
   "execution_count": 36,
   "metadata": {},
   "outputs": [
    {
     "name": "stdout",
     "output_type": "stream",
     "text": [
      "0.7523999810218811\n"
     ]
    },
    {
     "data": {
      "image/png": "[encoded data removed]",
      "text/plain": [
       "<Figure size 360x252 with 1 Axes>"
      ]
     },
     "metadata": {},
     "output_type": "display_data"
    }
   ],
   "source": [
    "temp2 = [0]\n",
    "for i in range(1,2):\n",
    "    \n",
    "    model.compute_fisher_all(mnist2.validation.images,sess,num_samples=200,plot_diffs=False)\n",
    "    mask =givemask(model,i)#给出mask矩阵\n",
    "    mask = model.or_mask(mask,model.mask2)\n",
    "    \n",
    "    \n",
    "    model.get_F_accum()\n",
    "    \n",
    "    \n",
    "    \n",
    "    makezero(model,mask)#加入图中\n",
    "    model.star_output1()\n",
    "    temp2.append(train_task_all1(model, 1000, 20, mnist2, [mnist,fash_mnist, mnist2], x, y_,y1_,y11_,keep_prob, lams=[5]))\n",
    "    print(temp2[i]) \n",
    "#     if temp2[i]<0.70 :\n",
    "#         break \n"
   ]
  },
  {
   "cell_type": "code",
   "execution_count": 37,
   "metadata": {},
   "outputs": [
    {
     "name": "stdout",
     "output_type": "stream",
     "text": [
      "[matrix([[1., 1., 1., ..., 1., 1., 1.],\n",
      "        [1., 1., 1., ..., 1., 1., 1.],\n",
      "        [1., 1., 1., ..., 1., 1., 1.],\n",
      "        ...,\n",
      "        [1., 1., 1., ..., 1., 1., 1.],\n",
      "        [1., 1., 1., ..., 1., 1., 1.],\n",
      "        [1., 1., 1., ..., 1., 1., 1.]]), matrix([[1., 1., 1., 1., 1., 1., 1., 1., 1., 1., 1., 1., 1., 1., 1., 1.]]), matrix([[1., 1., 1., 1., 1., 1., 1., 1., 1., 1.],\n",
      "        [1., 1., 1., 1., 1., 1., 1., 1., 1., 1.],\n",
      "        [1., 1., 1., 1., 1., 1., 1., 1., 1., 1.],\n",
      "        [1., 1., 1., 1., 1., 1., 1., 1., 1., 1.],\n",
      "        [1., 1., 1., 1., 1., 1., 1., 1., 1., 1.],\n",
      "        [1., 1., 1., 1., 1., 1., 1., 1., 1., 1.],\n",
      "        [1., 1., 1., 1., 1., 1., 1., 1., 1., 1.],\n",
      "        [1., 1., 1., 1., 1., 1., 1., 1., 1., 1.],\n",
      "        [1., 1., 1., 1., 1., 1., 1., 1., 1., 1.],\n",
      "        [1., 1., 1., 1., 1., 1., 1., 1., 1., 1.],\n",
      "        [1., 1., 1., 1., 1., 1., 1., 1., 1., 1.],\n",
      "        [1., 1., 1., 1., 1., 1., 1., 1., 1., 1.],\n",
      "        [1., 1., 1., 1., 1., 1., 1., 1., 1., 1.],\n",
      "        [1., 1., 1., 1., 1., 1., 1., 1., 1., 1.],\n",
      "        [1., 1., 1., 1., 1., 1., 1., 1., 1., 1.],\n",
      "        [1., 1., 1., 1., 1., 1., 1., 1., 1., 1.]]), matrix([[1., 1., 1., 1., 1., 1., 1., 1., 1., 1.]])]\n"
     ]
    }
   ],
   "source": [
    "model.mask3 = mask\n",
    "print(mask)\n"
   ]
  },
  {
   "cell_type": "code",
   "execution_count": 28,
   "metadata": {},
   "outputs": [],
   "source": [
    "model.save_last_accum()"
   ]
  },
  {
   "cell_type": "code",
   "execution_count": 29,
   "metadata": {},
   "outputs": [
    {
     "data": {
      "image/png": "[encoded data removed]",
      "text/plain": [
       "<Figure size 432x288 with 2 Axes>"
      ]
     },
     "metadata": {},
     "output_type": "display_data"
    }
   ],
   "source": [
    "# permuting mnist for 2nd task\n",
    "mnist3 = permute_mnist(mnist)\n",
    "plt.subplot(1,2,1)\n",
    "mnist_imshow(fash_mnist.train.images[1])\n",
    "plt.title(\"original task image\")\n",
    "plt.subplot(1,2,2)\n",
    "mnist_imshow(mnist2.train.images[1])\n",
    "plt.title(\"new task image\");"
   ]
  },
  {
   "cell_type": "code",
   "execution_count": 30,
   "metadata": {},
   "outputs": [],
   "source": [
    "#非压缩用\n",
    "def train_task_output3(model, num_iter, disp_freq, trainset, testsets, x, y_,y1_,y11_,y111_, keep_prob, lams=[0]):\n",
    "    for l in range(len(lams)):\n",
    "        # lams[l] sets weight on old task(s)\n",
    "        model.restore_output2(sess) # reassign optimal weights from previous training session\n",
    "        model.learning_rate = 0.05 \n",
    "        if(lams[l] == 0):\n",
    "            model.self.set_vanilla_loss_output2()\n",
    "        else:\n",
    "            model.update_ewc_loss_output2(lams[l] )\n",
    "        # initialize test accuracy array for each task \n",
    "        test_accs = []\n",
    "        for task in range(len(testsets)):\n",
    "            test_accs.append(np.zeros(num_iter//disp_freq))\n",
    "        # train on current task\n",
    "        for iter in range(num_iter):\n",
    "            batch = trainset.train.next_batch(100)\n",
    "            model.learning_rate= sess.run(model.learning_rate1, feed_dict={model.global_: iter})\n",
    "            model.train_step_ewc_output2.run(feed_dict={x: batch[0], y111_: batch[1],keep_prob:0.5})            \n",
    "            if iter % disp_freq == 0:\n",
    "                plt.subplot(1, len(lams), l+1)\n",
    "                plots = []\n",
    "                colors = ['r', 'b', 'g','r+']\n",
    "                for task in range(len(testsets)):\n",
    "                    if task%4 == 0:\n",
    "                        feed_dict={x: testsets[task].test.images, y_: testsets[task].test.labels,keep_prob:1}\n",
    "                        test_accs[task][iter//disp_freq] = model.accuracy.eval(feed_dict=feed_dict)\n",
    "                        temp_result = test_accs[task][iter//disp_freq]\n",
    "                        \n",
    "                    elif task%4==1:\n",
    "                        feed_dict={x: testsets[task].test.images, y1_: testsets[task].test.labels,keep_prob:1}\n",
    "                        test_accs[task][iter//disp_freq] = model.accuracy_output.eval(feed_dict=feed_dict)\n",
    "                        temp_result = test_accs[task][iter//disp_freq]\n",
    "                    elif task%4==2:\n",
    "                        feed_dict={x: testsets[task].test.images, y11_: testsets[task].test.labels,keep_prob:1}\n",
    "                        test_accs[task][iter//disp_freq] = model.accuracy_output1.eval(feed_dict=feed_dict)\n",
    "                        temp_result = test_accs[task][iter//disp_freq]\n",
    "                    elif task%4==3:\n",
    "                        feed_dict={x:testsets[task].test.images,y111_:testsets[task].test.labels,keep_prob:1}\n",
    "                        test_accs[task][iter//disp_freq] = model.accuracy_output2.eval(feed_dict=feed_dict)\n",
    "                        temp_result =test_accs[task]\n",
    "                    c = chr(ord('A') + task)\n",
    "                    accuracy.write(str(test_accs[task][:iter // disp_freq + 1])+\"\\n\")\n",
    "                    plot_h, = plt.plot(range(1,iter+2,disp_freq), test_accs[task][:iter//disp_freq+1], colors[task], label=\"task \" + c)\n",
    "                    plots.append(plot_h)\n",
    "                #print(plots)\n",
    "                plot_test_acc(plots)\n",
    "                if lams[l] == 0: \n",
    "                    plt.title(\"vanilla sgd\")\n",
    "                else:\n",
    "                    plt.title(\"ewc\")\n",
    "                plt.gcf().set_size_inches(len(lams)*5, 3.5)\n",
    "    return temp_result\n",
    "\n",
    "#压缩用\n",
    "def train_task_output33(model, num_iter, disp_freq, trainset, testsets, x, y_,y1_,y11_,y111_, keep_prob, lams=[0]):\n",
    "    for l in range(len(lams)):\n",
    "        # lams[l] sets weight on old task(s)\n",
    "        model.restore_output2(sess) # reassign optimal weights from previous training session\n",
    "        model.learning_rate = 0.05 \n",
    "        if(lams[l] == 0):\n",
    "            model.self.set_vanilla_loss_output2()\n",
    "        else:\n",
    "            model.update_ewc_loss_output2(lams[l] )\n",
    "        # initialize test accuracy array for each task \n",
    "        test_accs = []\n",
    "        for task in range(len(testsets)):\n",
    "            test_accs.append(np.zeros(num_iter//disp_freq))\n",
    "        # train on current task\n",
    "        for iter in range(num_iter):\n",
    "            batch = trainset.train.next_batch(100)\n",
    "            if iter%20==0:\n",
    "                makezero(model,mask)\n",
    "            model.learning_rate= sess.run(model.learning_rate1, feed_dict={model.global_: iter})\n",
    "            model.train_step_ewc_output2.run(feed_dict={x: batch[0], y111_: batch[1],keep_prob:0.5})            \n",
    "            if iter % disp_freq == 0:\n",
    "                plt.subplot(1, len(lams), l+1)\n",
    "                plots = []\n",
    "                colors = ['r', 'b', 'g','r+']\n",
    "                for task in range(len(testsets)):\n",
    "                    if task%4 == 0:\n",
    "                        feed_dict={x: testsets[task].test.images, y_: testsets[task].test.labels,keep_prob:1}\n",
    "                        test_accs[task][iter//disp_freq] = model.accuracy.eval(feed_dict=feed_dict)\n",
    "                        temp_result = test_accs[task][iter//disp_freq]\n",
    "                        \n",
    "                    elif task%4==1:\n",
    "                        feed_dict={x: testsets[task].test.images, y1_: testsets[task].test.labels,keep_prob:1}\n",
    "                        test_accs[task][iter//disp_freq] = model.accuracy_output.eval(feed_dict=feed_dict)\n",
    "                        temp_result = test_accs[task][iter//disp_freq]\n",
    "                    elif task%4==2:\n",
    "                        feed_dict={x: testsets[task].test.images, y11_: testsets[task].test.labels,keep_prob:1}\n",
    "                        test_accs[task][iter//disp_freq] = model.accuracy_output1.eval(feed_dict=feed_dict)\n",
    "                        temp_result = test_accs[task][iter//disp_freq]\n",
    "                    elif task%4==3:\n",
    "                        feed_dict={x: testsets[task].test.images, y111_: testsets[task].test.labels,keep_prob:1}\n",
    "                        test_accs[task][iter//disp_freq] = model.accuracy_output2.eval(feed_dict=feed_dict)\n",
    "                        temp_result = test_accs[task][iter//disp_freq]\n",
    "                        \n",
    "                    c = chr(ord('A') + task)\n",
    "                    accuracy.write(str(test_accs[task][:iter // disp_freq + 1])+\"\\n\")\n",
    "                    plot_h, = plt.plot(range(1,iter+2,disp_freq), test_accs[task][:iter//disp_freq+1], colors[task], label=\"task \" + c)\n",
    "                    plots.append(plot_h)\n",
    "                #print(plots)\n",
    "                plot_test_acc(plots)\n",
    "                if lams[l] == 0: \n",
    "                    plt.title(\"vanilla sgd\")\n",
    "                else:\n",
    "                    plt.title(\"ewc\")\n",
    "                plt.gcf().set_size_inches(len(lams)*5, 3.5)\n",
    "    return temp_result"
   ]
  },
  {
   "cell_type": "code",
   "execution_count": 31,
   "metadata": {},
   "outputs": [],
   "source": [
    "\n",
    "model.compute_fisher_all(mnist2.validation.images,sess,num_samples=200,plot_diffs=False)\n",
    "model.get_F_accum()"
   ]
  },
  {
   "cell_type": "code",
   "execution_count": 32,
   "metadata": {},
   "outputs": [],
   "source": [
    "model.star_output2()"
   ]
  },
  {
   "cell_type": "code",
   "execution_count": 33,
   "metadata": {},
   "outputs": [
    {
     "data": {
      "text/plain": [
       "array([0.0803    , 0.1441    , 0.31169999, 0.45230001, 0.5115    ,\n",
       "       0.54650003, 0.60259998, 0.62559998, 0.65890002, 0.68610001,\n",
       "       0.70209998, 0.73259997, 0.74629998, 0.74190003, 0.75      ,\n",
       "       0.75730002, 0.76819998, 0.77710003, 0.7791    , 0.78850001,\n",
       "       0.79549998, 0.80059999, 0.79809999, 0.79949999, 0.80369997,\n",
       "       0.8118    , 0.81440002, 0.81550002, 0.81290001, 0.81779999,\n",
       "       0.81870002, 0.8233    , 0.82599998, 0.81449997, 0.83179998,\n",
       "       0.83179998, 0.8312    , 0.83310002, 0.83139998, 0.83899999,\n",
       "       0.83609998, 0.84109998, 0.83149999, 0.8369    , 0.84140003,\n",
       "       0.83329999, 0.83380002, 0.84079999, 0.84420002, 0.84869999,\n",
       "       0.85079998, 0.85039997, 0.85229999, 0.84939998, 0.84350002,\n",
       "       0.85159999, 0.85299999, 0.85089999, 0.85149997, 0.85100001,\n",
       "       0.85619998, 0.85680002, 0.8549    , 0.85329998, 0.85589999,\n",
       "       0.85409999, 0.85399997, 0.85769999, 0.85640001, 0.86180001,\n",
       "       0.85519999, 0.85839999, 0.8617    , 0.85790002, 0.86269999,\n",
       "       0.86269999, 0.86140001, 0.85930002, 0.86000001, 0.86379999,\n",
       "       0.86339998, 0.86400002, 0.86570001, 0.86690003, 0.86790001,\n",
       "       0.8617    , 0.86009997, 0.86390001, 0.85979998, 0.8585    ,\n",
       "       0.86589998, 0.86879998, 0.86729997, 0.86720002, 0.86269999,\n",
       "       0.86629999, 0.86140001, 0.86360002, 0.8646    , 0.86849999,\n",
       "       0.8664    , 0.86580002, 0.86400002, 0.86580002, 0.86769998,\n",
       "       0.86559999, 0.86979997, 0.86919999, 0.87029999, 0.87199998,\n",
       "       0.87129998, 0.86979997, 0.87330002, 0.8721    , 0.87180001,\n",
       "       0.87120003, 0.87220001, 0.87099999, 0.87120003, 0.87180001,\n",
       "       0.87110001, 0.87260002, 0.87449998, 0.87220001, 0.87419999,\n",
       "       0.87180001, 0.87349999, 0.87440002, 0.87220001, 0.8725    ,\n",
       "       0.87400001, 0.87639999, 0.87620002, 0.87419999, 0.87559998,\n",
       "       0.87510002, 0.87529999, 0.87080002, 0.87459999, 0.87519997,\n",
       "       0.87419999, 0.87620002, 0.87660003, 0.87480003, 0.87480003,\n",
       "       0.8768    , 0.87510002, 0.875     , 0.87440002, 0.87809998,\n",
       "       0.87669998, 0.87370002, 0.87290001, 0.87730002, 0.87489998,\n",
       "       0.87629998, 0.87669998, 0.87620002, 0.87540001, 0.8775    ,\n",
       "       0.87620002, 0.87699997, 0.8779    , 0.87639999, 0.88      ,\n",
       "       0.87669998, 0.88010001, 0.87830001, 0.87919998, 0.87709999,\n",
       "       0.87470001, 0.88129997, 0.87919998, 0.87940001, 0.88059998,\n",
       "       0.88099998, 0.87980002, 0.88020003, 0.88069999, 0.88120002,\n",
       "       0.88029999, 0.87959999, 0.8811    , 0.87830001, 0.8822    ,\n",
       "       0.8804    , 0.87629998, 0.8793    , 0.87980002, 0.87959999,\n",
       "       0.88169998, 0.88309997, 0.88309997, 0.88029999, 0.88239998,\n",
       "       0.88209999, 0.88139999, 0.88239998, 0.88319999, 0.8829    ])"
      ]
     },
     "execution_count": 33,
     "metadata": {},
     "output_type": "execute_result"
    },
    {
     "data": {
      "image/png": "[encoded data removed]",
      "text/plain": [
       "<Figure size 360x252 with 1 Axes>"
      ]
     },
     "metadata": {},
     "output_type": "display_data"
    }
   ],
   "source": [
    "# training 4nd task\n",
    "train_task_output3(model, 4000, 20, mnist3, [mnist,fash_mnist, mnist2,mnist3],x, y_,y1_,y11_,y111_,keep_prob, lams=[5])\n",
    "\n"
   ]
  },
  {
   "cell_type": "code",
   "execution_count": null,
   "metadata": {},
   "outputs": [],
   "source": []
  }
 ],
 "metadata": {
  "anaconda-cloud": {},
  "kernelspec": {
   "display_name": "Python 3",
   "language": "python",
   "name": "python3"
  },
  "language_info": {
   "codemirror_mode": {
    "name": "ipython",
    "version": 3
   },
   "file_extension": ".py",
   "mimetype": "text/x-python",
   "name": "python",
   "nbconvert_exporter": "python",
   "pygments_lexer": "ipython3",
   "version": "3.7.0"
  }
 },
 "nbformat": 4,
 "nbformat_minor": 2
}
